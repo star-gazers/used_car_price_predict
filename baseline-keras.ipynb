{
 "cells": [
  {
   "cell_type": "markdown",
   "metadata": {},
   "source": [
    "## 一、导入函数工具包"
   ]
  },
  {
   "cell_type": "code",
   "execution_count": 1,
   "metadata": {},
   "outputs": [],
   "source": [
    "import pandas as pd\n",
    "import numpy as np\n",
    "from sklearn.preprocessing import MinMaxScaler\n",
    "from sklearn.model_selection import train_test_split\n",
    "from tensorflow import keras\n",
    "from sklearn.metrics import mean_absolute_error"
   ]
  },
  {
   "cell_type": "markdown",
   "metadata": {},
   "source": [
    "## 二、导入数据"
   ]
  },
  {
   "cell_type": "code",
   "execution_count": 2,
   "metadata": {},
   "outputs": [],
   "source": [
    "data_train = pd.read_csv('used_car_train_20200313.csv',sep = ' ')\n",
    "data_test = pd.read_csv('used_car_testA_20200313.csv',sep = ' ')"
   ]
  },
  {
   "cell_type": "markdown",
   "metadata": {},
   "source": [
    "## 三、数据清洗"
   ]
  },
  {
   "cell_type": "code",
   "execution_count": 3,
   "metadata": {},
   "outputs": [],
   "source": [
    "data_train.replace(to_replace = '-', value = np.nan, inplace = True)\n",
    "data_test.replace(to_replace = '-', value = np.nan, inplace = True)"
   ]
  },
  {
   "cell_type": "code",
   "execution_count": 4,
   "metadata": {},
   "outputs": [],
   "source": [
    "data_train.fillna(data_train.median(),inplace= True)\n",
    "data_test.fillna(data_train.median(),inplace= True)"
   ]
  },
  {
   "cell_type": "code",
   "execution_count": 5,
   "metadata": {},
   "outputs": [],
   "source": [
    "#特征标签\n",
    "tags = ['model','brand','bodyType','fuelType','regionCode','regionCode','regDate','creatDate','kilometer','notRepairedDamage','power','v_0', 'v_1', 'v_2', 'v_3', 'v_4', 'v_5', 'v_6',\n",
    "       'v_7', 'v_8', 'v_9', 'v_10', 'v_11', 'v_12', 'v_13', 'v_14']"
   ]
  },
  {
   "cell_type": "code",
   "execution_count": 6,
   "metadata": {},
   "outputs": [
    {
     "name": "stderr",
     "output_type": "stream",
     "text": [
      "D:\\Anaconda3\\envs\\tensorflow\\lib\\site-packages\\ipykernel_launcher.py:2: SettingWithCopyWarning: \n",
      "A value is trying to be set on a copy of a slice from a DataFrame\n",
      "\n",
      "See the caveats in the documentation: https://pandas.pydata.org/pandas-docs/stable/user_guide/indexing.html#returning-a-view-versus-a-copy\n",
      "  \n",
      "D:\\Anaconda3\\envs\\tensorflow\\lib\\site-packages\\ipykernel_launcher.py:3: SettingWithCopyWarning: \n",
      "A value is trying to be set on a copy of a slice from a DataFrame\n",
      "\n",
      "See the caveats in the documentation: https://pandas.pydata.org/pandas-docs/stable/user_guide/indexing.html#returning-a-view-versus-a-copy\n",
      "  This is separate from the ipykernel package so we can avoid doing imports until\n"
     ]
    }
   ],
   "source": [
    "#修改异常数据\n",
    "data_train['power'][data_train['power']>600]=600\n",
    "data_test['power'][data_test['power']>600]=600"
   ]
  },
  {
   "cell_type": "code",
   "execution_count": 7,
   "metadata": {},
   "outputs": [],
   "source": [
    "#特征归一化\n",
    "min_max_scaler = MinMaxScaler()\n",
    "min_max_scaler.fit(data_train[tags].values)\n",
    "x = min_max_scaler.transform(data_train[tags].values)\n",
    "x_ = min_max_scaler.transform(data_test[tags].values)"
   ]
  },
  {
   "cell_type": "code",
   "execution_count": 8,
   "metadata": {},
   "outputs": [],
   "source": [
    "#获得y值\n",
    "y = data_train['price'].values"
   ]
  },
  {
   "cell_type": "code",
   "execution_count": 9,
   "metadata": {},
   "outputs": [],
   "source": [
    "#切分数据集\n",
    "x_train,x_test,y_train,y_test = train_test_split(x,y,test_size = 0.2)"
   ]
  },
  {
   "cell_type": "markdown",
   "metadata": {},
   "source": [
    "## 四、建模训练预测"
   ]
  },
  {
   "cell_type": "code",
   "execution_count": 10,
   "metadata": {},
   "outputs": [
    {
     "name": "stdout",
     "output_type": "stream",
     "text": [
      "WARNING:tensorflow:From D:\\Anaconda3\\envs\\tensorflow\\lib\\site-packages\\tensorflow_core\\python\\ops\\resource_variable_ops.py:1630: calling BaseResourceVariable.__init__ (from tensorflow.python.ops.resource_variable_ops) with constraint is deprecated and will be removed in a future version.\n",
      "Instructions for updating:\n",
      "If using Keras pass *_constraint arguments to layers.\n"
     ]
    }
   ],
   "source": [
    "model = keras.Sequential([\n",
    "        keras.layers.Dense(250,activation='relu',input_shape=[26]), \n",
    "        keras.layers.Dense(250,activation='relu'), \n",
    "        keras.layers.Dense(250,activation='relu'), \n",
    "        keras.layers.Dense(1)])\n",
    "model.compile(loss='mean_absolute_error',\n",
    "                optimizer='Adam')"
   ]
  },
  {
   "cell_type": "code",
   "execution_count": 11,
   "metadata": {},
   "outputs": [
    {
     "name": "stdout",
     "output_type": "stream",
     "text": [
      "Train on 120000 samples\n",
      "Epoch 1/50\n",
      "120000/120000 [==============================] - 2s 16us/sample - loss: 5563.9603\n",
      "Epoch 2/50\n",
      "120000/120000 [==============================] - 1s 6us/sample - loss: 4267.2074\n",
      "Epoch 3/50\n",
      "120000/120000 [==============================] - 1s 9us/sample - loss: 3647.6043\n",
      "Epoch 4/50\n",
      "120000/120000 [==============================] - 1s 9us/sample - loss: 1971.3189\n",
      "Epoch 5/50\n",
      "120000/120000 [==============================] - 1s 6us/sample - loss: 1305.9669\n",
      "Epoch 6/50\n",
      "120000/120000 [==============================] - 1s 7us/sample - loss: 1150.1801\n",
      "Epoch 7/50\n",
      "120000/120000 [==============================] - 1s 6us/sample - loss: 1066.3974\n",
      "Epoch 8/50\n",
      "120000/120000 [==============================] - 1s 7us/sample - loss: 1004.5189\n",
      "Epoch 9/50\n",
      "120000/120000 [==============================] - 1s 6us/sample - loss: 957.2493\n",
      "Epoch 10/50\n",
      "120000/120000 [==============================] - 1s 6us/sample - loss: 920.7184\n",
      "Epoch 11/50\n",
      "120000/120000 [==============================] - 1s 7us/sample - loss: 889.1005\n",
      "Epoch 12/50\n",
      "120000/120000 [==============================] - 1s 6us/sample - loss: 863.3361\n",
      "Epoch 13/50\n",
      "120000/120000 [==============================] - 1s 6us/sample - loss: 836.8434\n",
      "Epoch 14/50\n",
      "120000/120000 [==============================] - 1s 7us/sample - loss: 816.9501\n",
      "Epoch 15/50\n",
      "120000/120000 [==============================] - 1s 7us/sample - loss: 798.0416\n",
      "Epoch 16/50\n",
      "120000/120000 [==============================] - 1s 6us/sample - loss: 781.0952\n",
      "Epoch 17/50\n",
      "120000/120000 [==============================] - 1s 6us/sample - loss: 765.9314\n",
      "Epoch 18/50\n",
      "120000/120000 [==============================] - 1s 7us/sample - loss: 750.3610\n",
      "Epoch 19/50\n",
      "120000/120000 [==============================] - 1s 12us/sample - loss: 737.1785\n",
      "Epoch 20/50\n",
      "120000/120000 [==============================] - 1s 9us/sample - loss: 725.6976 0s - \n",
      "Epoch 21/50\n",
      "120000/120000 [==============================] - 1s 8us/sample - loss: 713.5919\n",
      "Epoch 22/50\n",
      "120000/120000 [==============================] - 1s 7us/sample - loss: 704.1105\n",
      "Epoch 23/50\n",
      "120000/120000 [==============================] - 1s 7us/sample - loss: 694.2538\n",
      "Epoch 24/50\n",
      "120000/120000 [==============================] - 1s 7us/sample - loss: 683.9796\n",
      "Epoch 25/50\n",
      "120000/120000 [==============================] - 1s 8us/sample - loss: 675.9068\n",
      "Epoch 26/50\n",
      "120000/120000 [==============================] - 1s 7us/sample - loss: 666.7755\n",
      "Epoch 27/50\n",
      "120000/120000 [==============================] - 1s 7us/sample - loss: 658.7275\n",
      "Epoch 28/50\n",
      "120000/120000 [==============================] - 1s 6us/sample - loss: 653.8114\n",
      "Epoch 29/50\n",
      "120000/120000 [==============================] - 1s 6us/sample - loss: 645.2487\n",
      "Epoch 30/50\n",
      "120000/120000 [==============================] - 1s 6us/sample - loss: 640.1472\n",
      "Epoch 31/50\n",
      "120000/120000 [==============================] - 1s 6us/sample - loss: 637.1762\n",
      "Epoch 32/50\n",
      "120000/120000 [==============================] - 1s 6us/sample - loss: 629.4321\n",
      "Epoch 33/50\n",
      "120000/120000 [==============================] - 1s 6us/sample - loss: 625.0985\n",
      "Epoch 34/50\n",
      "120000/120000 [==============================] - 1s 6us/sample - loss: 619.3441 0s - loss: 615\n",
      "Epoch 35/50\n",
      "120000/120000 [==============================] - 1s 6us/sample - loss: 614.8070\n",
      "Epoch 36/50\n",
      "120000/120000 [==============================] - 1s 6us/sample - loss: 612.7986\n",
      "Epoch 37/50\n",
      "120000/120000 [==============================] - 1s 6us/sample - loss: 607.5194\n",
      "Epoch 38/50\n",
      "120000/120000 [==============================] - 1s 6us/sample - loss: 603.4265\n",
      "Epoch 39/50\n",
      "120000/120000 [==============================] - 1s 6us/sample - loss: 600.6897 0s - los\n",
      "Epoch 40/50\n",
      "120000/120000 [==============================] - 1s 6us/sample - loss: 597.5589\n",
      "Epoch 41/50\n",
      "120000/120000 [==============================] - 1s 7us/sample - loss: 594.3529\n",
      "Epoch 42/50\n",
      "120000/120000 [==============================] - 1s 7us/sample - loss: 592.2029\n",
      "Epoch 43/50\n",
      "120000/120000 [==============================] - 1s 7us/sample - loss: 591.3551\n",
      "Epoch 44/50\n",
      "120000/120000 [==============================] - 1s 6us/sample - loss: 591.6908\n",
      "Epoch 45/50\n",
      "120000/120000 [==============================] - 1s 6us/sample - loss: 586.0704\n",
      "Epoch 46/50\n",
      "120000/120000 [==============================] - 1s 7us/sample - loss: 583.7289\n",
      "Epoch 47/50\n",
      "120000/120000 [==============================] - 1s 7us/sample - loss: 580.2442\n",
      "Epoch 48/50\n",
      "120000/120000 [==============================] - 1s 6us/sample - loss: 577.9598\n",
      "Epoch 49/50\n",
      "120000/120000 [==============================] - 1s 6us/sample - loss: 574.8887\n",
      "Epoch 50/50\n",
      "120000/120000 [==============================] - 1s 7us/sample - loss: 572.5927\n"
     ]
    },
    {
     "data": {
      "text/plain": [
       "<tensorflow.python.keras.callbacks.History at 0x1cc54b26e80>"
      ]
     },
     "execution_count": 11,
     "metadata": {},
     "output_type": "execute_result"
    }
   ],
   "source": [
    "model.fit(x_train,y_train,batch_size = 2048,epochs=50)"
   ]
  },
  {
   "cell_type": "code",
   "execution_count": 12,
   "metadata": {},
   "outputs": [
    {
     "data": {
      "text/plain": [
       "568.8469346729279"
      ]
     },
     "execution_count": 12,
     "metadata": {},
     "output_type": "execute_result"
    }
   ],
   "source": [
    "#比较训练集和测试集效果\n",
    "mean_absolute_error(y_train,model.predict(x_train))"
   ]
  },
  {
   "cell_type": "code",
   "execution_count": 13,
   "metadata": {},
   "outputs": [
    {
     "data": {
      "text/plain": [
       "578.0792317927043"
      ]
     },
     "execution_count": 13,
     "metadata": {},
     "output_type": "execute_result"
    }
   ],
   "source": [
    "mean_absolute_error(y_test,model.predict(x_test))"
   ]
  },
  {
   "cell_type": "code",
   "execution_count": 14,
   "metadata": {},
   "outputs": [],
   "source": [
    "#输出结果预测\n",
    "y_=model.predict(x_)"
   ]
  },
  {
   "cell_type": "code",
   "execution_count": 15,
   "metadata": {},
   "outputs": [],
   "source": [
    "data_test_price = pd.DataFrame(y_,columns = ['price'])\n",
    "results = pd.concat([data_test['SaleID'],data_test_price],axis = 1)\n",
    "results.to_csv('results.csv',sep = ',',index = None)"
   ]
  },
  {
   "cell_type": "code",
   "execution_count": null,
   "metadata": {},
   "outputs": [],
   "source": []
  }
 ],
 "metadata": {
  "kernelspec": {
   "display_name": "Python [conda env:tensorflow]",
   "language": "python",
   "name": "conda-env-tensorflow-py"
  },
  "language_info": {
   "codemirror_mode": {
    "name": "ipython",
    "version": 3
   },
   "file_extension": ".py",
   "mimetype": "text/x-python",
   "name": "python",
   "nbconvert_exporter": "python",
   "pygments_lexer": "ipython3",
   "version": "3.6.13"
  }
 },
 "nbformat": 4,
 "nbformat_minor": 2
}
